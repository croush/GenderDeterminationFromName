{
 "cells": [
  {
   "cell_type": "code",
   "execution_count": 5,
   "metadata": {
    "collapsed": false
   },
   "outputs": [
    {
     "name": "stdout",
     "output_type": "stream",
     "text": [
      "0.7533039647577092\n",
      "Most Informative Features\n",
      "             last_letter = 'k'              male : female =     39.0 : 1.0\n",
      "             last_letter = 'a'            female : male   =     31.8 : 1.0\n",
      "             last_letter = 'f'              male : female =     15.7 : 1.0\n",
      "             last_letter = 'p'              male : female =     11.7 : 1.0\n",
      "             last_letter = 'm'              male : female =      9.7 : 1.0\n",
      "None\n"
     ]
    }
   ],
   "source": [
    "#One of the biggest problems in the Des Moines Parks & Rec Analysis Project was determining sex,\n",
    "#an attribute not disclosed from the data source.\n",
    "#This notebook's project is to use NLTK and Naive Bayes to (try to) determine sex from a name reliably.\n",
    "#Sources:\n",
    "#http://www.nltk.org/_modules/nltk/classify/util.html\n",
    "#http://stackoverflow.com/questions/16323078/gender-identification-in-natural-language-processing\n",
    "#https://gist.github.com/vinovator/6e5bf1e1bc61687a1e809780c30d6bf6\n",
    "#https://gist.github.com/dannguyen/fbdfd51e62941edf9d81\n",
    "\n",
    "import nltk\n",
    "import pandas\n",
    "import numpy as np\n",
    "from nltk import NaiveBayesClassifier\n",
    "from nltk.corpus import names\n",
    "import random\n",
    "from sklearn.model_selection import train_test_split\n",
    "\n",
    "#only run the NLTK download the first run to download the names corpus.\n",
    "#nltk.download()\n",
    "\n",
    "\n",
    "#returns the attribute to use\n",
    "def get_attribs(n):\n",
    "    return{\"last_letter\": n[-1]}\n",
    "    \n",
    "name_list = []\n",
    "for name in names.words(\"female.txt\"):\n",
    "    name_list += [(name,\"female\")]\n",
    "for name in names.words(\"male.txt\"):\n",
    "    name_list += [(name,\"male\")]\n",
    "\n",
    "random.shuffle(name_list)\n",
    "\n",
    "#tried to get a pandas dataframe to work, didn't quite get it. Future fix.\n",
    "d = []\n",
    "for name in names.words(\"female.txt\"):\n",
    "    d.append({'Name': name, 'Gender': \"female\"})\n",
    "df = pandas.DataFrame(d)\n",
    "#print(df[\"Name\"])\n",
    "\n",
    "#investigate this later\n",
    "feature_sets = [(get_attribs(n), gender)\n",
    "                    for (n, gender) in name_list]\n",
    "\n",
    "#split into training and test set\n",
    "(train_data, test_data)= train_test_split(feature_sets, test_size = 0.2)\n",
    "\n",
    "nb = nltk.NaiveBayesClassifier.train(train_data)\n",
    "\n",
    "print(nltk.classify.accuracy(nb, test_data))\n",
    "\n",
    "print(nb.show_most_informative_features(5))\n",
    "\n",
    "\n"
   ]
  },
  {
   "cell_type": "code",
   "execution_count": 7,
   "metadata": {
    "collapsed": false
   },
   "outputs": [
    {
     "name": "stdout",
     "output_type": "stream",
     "text": [
      "   Unnamed: 0                      Name                           Title  \\\n",
      "0           0             BENJAMIN PAGE             Park & Rec Director   \n",
      "1           1             KEVIN C MORAN             Senior Park Planner   \n",
      "2           2             RONALD S WARD                   Parks Manager   \n",
      "3           3       MATTHEW A SALVATORE          Administrative Analyst   \n",
      "4           4            BRIAN H BECKER       Park & Rec Superintendent   \n",
      "5           5            JOHN A HAGENER       Park & Rec Superintendent   \n",
      "6           6         RICHARD E LEFLEUR  Buildings & Grounds Superintnd   \n",
      "7           7  MARLENE ANDERSON-BEATTIE           Park & Rec Supervisor   \n",
      "8           8           KIRK J ROBINSON   Bldg & Parks Maint Supervisor   \n",
      "9           9         JENNIFER FLETCHER            Marketing Supervisor   \n",
      "\n",
      "           Wage     Rate  Years  Gender  \n",
      "0  $119,766.40   $57.60     5.8    male  \n",
      "1   $87,469.20   $42.10    12.5    male  \n",
      "2   $87,276.80   $42.00     1.1    male  \n",
      "3   $83,835.80   $40.30     0.9    male  \n",
      "4   $83,304.00   $40.10    16.3    male  \n",
      "5   $83,304.00   $40.10    15.9    male  \n",
      "6   $83,304.00   $40.10    21.0    male  \n",
      "7   $77,706.70   $37.40    18.8  female  \n",
      "8   $77,875.20   $37.40     5.7    male  \n",
      "9   $74,006.40   $35.60     2.3    male  \n"
     ]
    }
   ],
   "source": [
    "#Notable bug - uppercase will almost always predict female. ToDo.\n",
    "csv_in = pandas.read_csv(\"cleaned_data.csv\")\n",
    "genders = []\n",
    "for i in csv_in.index:\n",
    "    genders += [nb.classify(get_attribs(csv_in.ix[i][\"Name\"].split()[0].lower()))]\n",
    "csv_in[\"Gender\"] = genders\n",
    "print(csv_in[0:10])"
   ]
  },
  {
   "cell_type": "code",
   "execution_count": 9,
   "metadata": {
    "collapsed": false
   },
   "outputs": [],
   "source": [
    "csv_in.to_csv(\"employee_data_plus_gender.csv\")\n",
    "\n"
   ]
  },
  {
   "cell_type": "code",
   "execution_count": null,
   "metadata": {
    "collapsed": true
   },
   "outputs": [],
   "source": []
  }
 ],
 "metadata": {
  "anaconda-cloud": {},
  "kernelspec": {
   "display_name": "Python [Root]",
   "language": "python",
   "name": "Python [Root]"
  },
  "language_info": {
   "codemirror_mode": {
    "name": "ipython",
    "version": 3
   },
   "file_extension": ".py",
   "mimetype": "text/x-python",
   "name": "python",
   "nbconvert_exporter": "python",
   "pygments_lexer": "ipython3",
   "version": "3.5.2"
  }
 },
 "nbformat": 4,
 "nbformat_minor": 0
}
